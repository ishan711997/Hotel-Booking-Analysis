{
  "nbformat": 4,
  "nbformat_minor": 0,
  "metadata": {
    "colab": {
      "private_outputs": true,
      "provenance": [],
      "collapsed_sections": [
        "vncDsAP0Gaoa",
        "beRrZCGUAJYm",
        "w6K7xa23Elo4",
        "yQaldy8SH6Dl",
        "PH-0ReGfmX4f",
        "mDgbUHAGgjLW",
        "HhfV-JJviCcP",
        "Y3lxredqlCYt",
        "3RnN4peoiCZX",
        "x71ZqKXriCWQ",
        "7hBIi_osiCS2",
        "35m5QtbWiB9F",
        "PoPl-ycgm1ru",
        "H0kj-8xxnORC",
        "nA9Y7ga8ng1Z",
        "PBTbrJXOngz2",
        "u3PMJOP6ngxN",
        "PDHDS8oCjik_",
        "0I3MXve_l8AE",
        "pyat4pQ5UIkl",
        "yML8zFg1V4Es",
        "VYdyD5OsIowU",
        "3eQuApsmsHgc",
        "Z8xUzdw3w-U1",
        "oc_U415E2POE",
        "rtjnA136fV1G",
        "eAEg69u1gb5s",
        "ywDWP8wKMQHw",
        "xPt3MUVimqp0",
        "TuRSWa8DesSJ",
        "NSEEMNvjfh9x",
        "MSa1f5Uengrz",
        "0wOQAZs5pc--",
        "K5QZ13OEpz2H",
        "lQ7QKXXCp7Bj",
        "448CDAPjqfQr",
        "KSlN3yHqYklG",
        "t6dVpIINYklI",
        "ijmpgYnKYklI",
        "-JiQyfWJYklI",
        "EM7whBJCYoAo",
        "fge-S5ZAYoAp",
        "85gYPyotYoAp",
        "RoGjAbkUYoAp",
        "4Of9eVA-YrdM",
        "iky9q4vBYrdO",
        "F6T5p64dYrdO",
        "y-Ehk30pYrdP",
        "bamQiAODYuh1",
        "QHF8YVU7Yuh3",
        "GwzvFGzlYuh3",
        "qYpmQ266Yuh3",
        "OH-pJp9IphqM",
        "bbFf2-_FphqN",
        "_ouA3fa0phqN",
        "Seke61FWphqN",
        "PIIx-8_IphqN",
        "t27r6nlMphqO",
        "r2jJGEOYphqO",
        "b0JNsNcRphqO",
        "BZR9WyysphqO",
        "jj7wYXLtphqO",
        "eZrbJ2SmphqO",
        "rFu4xreNphqO",
        "YJ55k-q6phqO",
        "gCFgpxoyphqP",
        "OVtJsKN_phqQ",
        "lssrdh5qphqQ",
        "U2RJ9gkRphqQ",
        "1M8mcRywphqQ",
        "tgIPom80phqQ",
        "JMzcOPDDphqR",
        "x-EpHcCOp1ci",
        "X_VqEhTip1ck",
        "8zGJKyg5p1ck",
        "PVzmfK_Ep1ck",
        "n3dbpmDWp1ck",
        "ylSl6qgtp1ck",
        "ZWILFDl5p1ck",
        "M7G43BXep1ck",
        "Ag9LCva-p1cl",
        "E6MkPsBcp1cl",
        "2cELzS2fp1cl",
        "3MPXvC8up1cl",
        "NC_X3p0fY2L0",
        "UV0SzAkaZNRQ",
        "YPEH6qLeZNRQ",
        "q29F0dvdveiT",
        "EXh0U9oCveiU",
        "22aHeOlLveiV",
        "gIfDvo9L0UH2"
      ],
      "include_colab_link": true
    },
    "kernelspec": {
      "name": "python3",
      "display_name": "Python 3"
    },
    "language_info": {
      "name": "python"
    },
    "accelerator": "TPU",
    "gpuClass": "standard"
  },
  "cells": [
    {
      "cell_type": "markdown",
      "metadata": {
        "id": "view-in-github",
        "colab_type": "text"
      },
      "source": [
        "<a href=\"https://colab.research.google.com/github/ishan711997/Hotel-Booking-Analysis/blob/main/Individual_Hotel_booking_EDA.ipynb\" target=\"_parent\"><img src=\"https://colab.research.google.com/assets/colab-badge.svg\" alt=\"Open In Colab\"/></a>"
      ]
    },
    {
      "cell_type": "markdown",
      "source": [
        "# **Project Name**    - Hotel Booking Analysis \n",
        "\n"
      ],
      "metadata": {
        "id": "vncDsAP0Gaoa"
      }
    },
    {
      "cell_type": "markdown",
      "source": [
        "##### **Project Type**    - EDA\n",
        "##### **Contribution**    - Individual"
      ],
      "metadata": {
        "id": "beRrZCGUAJYm"
      }
    },
    {
      "cell_type": "markdown",
      "source": [
        "# **Project Summary -**"
      ],
      "metadata": {
        "id": "FJNUwmbgGyua"
      }
    },
    {
      "cell_type": "markdown",
      "source": [],
      "metadata": {
        "id": "kvux_r1ATbsh"
      }
    },
    {
      "cell_type": "markdown",
      "source": [
        "# **GitHub Link -**"
      ],
      "metadata": {
        "id": "w6K7xa23Elo4"
      }
    },
    {
      "cell_type": "markdown",
      "source": [
        "GitHub Link here - \n",
        "\n",
        "https://github.com/ishan711997/Hotel-Booking-Analysis.git"
      ],
      "metadata": {
        "id": "h1o69JH3Eqqn"
      }
    },
    {
      "cell_type": "markdown",
      "source": [
        "# **Problem Statement**\n"
      ],
      "metadata": {
        "id": "yQaldy8SH6Dl"
      }
    },
    {
      "cell_type": "markdown",
      "source": [
        "**Write Problem Statement Here.**\n",
        "\n",
        "The problem at hand is to analyze a hotel booking dataset that contains information for a city hotel and a resort hotel. The objective is to discover important factors that govern the bookings such as the best time of year to book a hotel room, the optimal length of stay to get the best daily rate, and predict whether a hotel is likely to receive a disproportionately high number of special requests. The analysis aims to help hotel owners and managers to make informed decisions regarding pricing, availability, and amenities to optimize their bookings and improve the overall customer experience."
      ],
      "metadata": {
        "id": "DpeJGUA3kjGy"
      }
    },
    {
      "cell_type": "markdown",
      "source": [
        "#### **Define Your Business Objective?**"
      ],
      "metadata": {
        "id": "PH-0ReGfmX4f"
      }
    },
    {
      "cell_type": "markdown",
      "source": [
        "Analyze hotel booking dataset and get insights for business"
      ],
      "metadata": {
        "id": "PhDvGCAqmjP1"
      }
    },
    {
      "cell_type": "markdown",
      "source": [
        "# **General Guidelines** : -  "
      ],
      "metadata": {
        "id": "mDgbUHAGgjLW"
      }
    },
    {
      "cell_type": "markdown",
      "source": [
        "1.   Well-structured, formatted, and commented code is required. \n",
        "2.   Exception Handling, Production Grade Code & Deployment Ready Code will be a plus. Those students will be awarded some additional credits. \n",
        "     \n",
        "     The additional credits will have advantages over other students during Star Student selection.\n",
        "       \n",
        "             [ Note: - Deployment Ready Code is defined as, the whole .ipynb notebook should be executable in one go\n",
        "                       without a single error logged. ]\n",
        "\n",
        "3.   Each and every logic should have proper comments.\n",
        "4. You may add as many number of charts you want. Make Sure for each and every chart the following format should be answered.\n",
        "        \n",
        "\n",
        "```\n",
        "# Chart visualization code\n",
        "```\n",
        "            \n",
        "\n",
        "*   Why did you pick the specific chart?\n",
        "*   What is/are the insight(s) found from the chart?\n",
        "* Will the gained insights help creating a positive business impact? \n",
        "Are there any insights that lead to negative growth? Justify with specific reason.\n",
        "\n",
        "5. You have to create at least 20 logical & meaningful charts having important insights.\n",
        "\n",
        "\n",
        "[ Hints : - Do the Vizualization in  a structured way while following \"UBM\" Rule. \n",
        "\n",
        "U - Univariate Analysis,\n",
        "\n",
        "B - Bivariate Analysis (Numerical - Categorical, Numerical - Numerical, Categorical - Categorical)\n",
        "\n",
        "M - Multivariate Analysis\n",
        " ]\n",
        "\n",
        "\n",
        "\n"
      ],
      "metadata": {
        "id": "ZrxVaUj-hHfC"
      }
    },
    {
      "cell_type": "markdown",
      "source": [
        "# ***Let's Begin !***"
      ],
      "metadata": {
        "id": "O_i_v8NEhb9l"
      }
    },
    {
      "cell_type": "markdown",
      "source": [
        "## ***1. Know Your Data***"
      ],
      "metadata": {
        "id": "HhfV-JJviCcP"
      }
    },
    {
      "cell_type": "code",
      "source": [
        "from google.colab import drive\n",
        "drive.mount('/content/drive')"
      ],
      "metadata": {
        "id": "psWLNHCNUhT7"
      },
      "execution_count": null,
      "outputs": []
    },
    {
      "cell_type": "code",
      "source": [
        "data = '/content/drive/MyDrive/Colab Notebooks/Capstone Projects/Capstone P1 /data/Hotel Bookings.csv'\n"
      ],
      "metadata": {
        "id": "DsbTDyzUUoz_"
      },
      "execution_count": null,
      "outputs": []
    },
    {
      "cell_type": "markdown",
      "source": [
        "### Import Libraries"
      ],
      "metadata": {
        "id": "Y3lxredqlCYt"
      }
    },
    {
      "cell_type": "code",
      "source": [
        "# Import Libraries\n",
        "import pandas as pd\n",
        "import numpy as np\n",
        "import matplotlib.pyplot as plt\n",
        "import seaborn as sns\n",
        "from datetime import datetime as dt"
      ],
      "metadata": {
        "id": "M8Vqi-pPk-HR"
      },
      "execution_count": null,
      "outputs": []
    },
    {
      "cell_type": "markdown",
      "source": [
        "### Dataset Loading"
      ],
      "metadata": {
        "id": "3RnN4peoiCZX"
      }
    },
    {
      "cell_type": "code",
      "source": [
        "# Load Dataset\n",
        "data = pd.read_csv(data)"
      ],
      "metadata": {
        "id": "4CkvbW_SlZ_R"
      },
      "execution_count": null,
      "outputs": []
    },
    {
      "cell_type": "markdown",
      "source": [
        "### Dataset First View"
      ],
      "metadata": {
        "id": "x71ZqKXriCWQ"
      }
    },
    {
      "cell_type": "code",
      "source": [
        "# Dataset First Look\n",
        "data.head()"
      ],
      "metadata": {
        "id": "LWNFOSvLl09H"
      },
      "execution_count": null,
      "outputs": []
    },
    {
      "cell_type": "markdown",
      "source": [
        "### Dataset Rows & Columns count"
      ],
      "metadata": {
        "id": "7hBIi_osiCS2"
      }
    },
    {
      "cell_type": "code",
      "source": [
        "# Dataset Rows & Columns count\n",
        "data.shape"
      ],
      "metadata": {
        "id": "Kllu7SJgmLij"
      },
      "execution_count": null,
      "outputs": []
    },
    {
      "cell_type": "markdown",
      "source": [
        "### Dataset Information"
      ],
      "metadata": {
        "id": "JlHwYmJAmNHm"
      }
    },
    {
      "cell_type": "code",
      "source": [
        "# Dataset Info\n",
        "data.info()"
      ],
      "metadata": {
        "id": "e9hRXRi6meOf"
      },
      "execution_count": null,
      "outputs": []
    },
    {
      "cell_type": "markdown",
      "source": [
        "#### Duplicate Values"
      ],
      "metadata": {
        "id": "35m5QtbWiB9F"
      }
    },
    {
      "cell_type": "code",
      "source": [
        "# # Dataset Duplicate Value Count\n",
        "len(data[data.duplicated()])"
      ],
      "metadata": {
        "id": "1sLdpKYkmox0"
      },
      "execution_count": null,
      "outputs": []
    },
    {
      "cell_type": "markdown",
      "source": [
        "#### Missing Values/Null Values"
      ],
      "metadata": {
        "id": "PoPl-ycgm1ru"
      }
    },
    {
      "cell_type": "code",
      "source": [
        "# Missing Values/Null Values Counts\n",
        "data.isnull().sum()"
      ],
      "metadata": {
        "id": "GgHWkxvamxVg"
      },
      "execution_count": null,
      "outputs": []
    },
    {
      "cell_type": "code",
      "source": [
        "# Visualizing the missing values\n",
        "sns.heatmap(data.isnull(), cbar=False, yticklabels=False)"
      ],
      "metadata": {
        "id": "3q5wnI3om9sJ"
      },
      "execution_count": null,
      "outputs": []
    },
    {
      "cell_type": "markdown",
      "source": [
        "### What did you know about your dataset?"
      ],
      "metadata": {
        "id": "H0kj-8xxnORC"
      }
    },
    {
      "cell_type": "markdown",
      "source": [
        "From the given dataset, I can see that it contains information about hotel bookings, including the booking status (canceled or not), arrival date(including week, month, year), length of stay, number of guests (adults, children, and babies), country, etc.\n",
        "\n",
        "The dataset also shows missing values in columns 'children' has 4 missing values, 'country' 488, 'agent' 16340, and 'company' 112593. "
      ],
      "metadata": {
        "id": "gfoNAAC-nUe_"
      }
    },
    {
      "cell_type": "markdown",
      "source": [
        "## ***2. Understanding Your Variables***"
      ],
      "metadata": {
        "id": "nA9Y7ga8ng1Z"
      }
    },
    {
      "cell_type": "code",
      "source": [
        "# Dataset Describe\n",
        "data.describe()"
      ],
      "metadata": {
        "id": "DnOaZdaE5Q5t"
      },
      "execution_count": null,
      "outputs": []
    },
    {
      "cell_type": "code",
      "source": [
        "# Dataset Columns\n",
        "data.columns"
      ],
      "metadata": {
        "id": "j7xfkqrt5Ag5"
      },
      "execution_count": null,
      "outputs": []
    },
    {
      "cell_type": "markdown",
      "source": [
        "### Variables Description "
      ],
      "metadata": {
        "id": "PBTbrJXOngz2"
      }
    },
    {
      "cell_type": "markdown",
      "source": [
        "**hotel**: Type of hotel (Resort Hotel or City Hotel).\n",
        "\n",
        "**is_canceled**: Whether the booking was canceled (1) or not (0).\n",
        "\n",
        "**lead_time**: Number of days between booking date and arrival date.\n",
        "\n",
        "**arrival_date_year**: Year of arrival date.\n",
        "\n",
        "**arrival_date_month**: Month of arrival date.\n",
        "\n",
        "**arrival_date_week_number**: Week number of the year for arrival date.\n",
        "\n",
        "**arrival_date_day_of_month**: Day of the month of arrival date.\n",
        "\n",
        "**stays_in_weekend_nights**: Number of weekend nights (Saturday or Sunday) the guest stayed.\n",
        "\n",
        "**stays_in_week_nights**: Number of week nights (Monday to Friday) the guest stayed.\n",
        "\n",
        "**adults**: Number of adults.\n",
        "\n",
        "**children**: Number of children.\n",
        "\n",
        "**babies**: Number of babies.\n",
        "\n",
        "**meal**: Type of meal booked.\n",
        "\n",
        "**country**: Country of origin of the guest.\n",
        "\n",
        "**market_segment**: Market segment designation.\n",
        "\n",
        "**distribution_channel**: Booking distribution channel.\n",
        "\n",
        "**is_repeated_guest**: Indicates if the guest has previously booked (1) or not (0).\n",
        "\n",
        "**previous_cancellations**: Number of prior bookings that were canceled by the guest.\n",
        "\n",
        "**previous_bookings_not_canceled**: Number of prior bookings not canceled by the guest.\n",
        "\n",
        "**reserved_room_type**: Code for the type of room initially reserved.\n",
        "\n",
        "**assigned_room_type**: Code for the type of room assigned to the guest.\n",
        "\n",
        "**booking_changes**: Number of changes made to the booking.\n",
        "\n",
        "**deposit_type**: Type of deposit made for the booking.\n",
        "\n",
        "**agent**: ID of the travel agency that made the booking.\n",
        "\n",
        "**company**: ID of the company/organization that made the booking or responsible for payment.\n",
        "\n",
        "**days_in_waiting_list**: Number of days the booking was in the waiting list before being confirmed.\n",
        "\n",
        "**customer_type**: Type of booking (Transient, Contract, Group, or Transient-Party).\n",
        "\n",
        "**adr**: Average Daily Rate, calculated by dividing the sum of all lodging transactions by the total number ofstaying nights.\n",
        "\n",
        "**required_car_parking_spaces**: Number of car parking spaces required by the guest.\n",
        "\n",
        "**total_of_special_requests**: Number of special requests made by the guest.\n",
        "\n",
        "**reservation_status**: Status of the reservation (Canceled, Check-Out, or No-Show).\n",
        "\n",
        "**reservation_status_date**: Date when the reservation status was last updated.\n",
        "\n",
        "\n",
        "\n",
        "\n",
        "\n"
      ],
      "metadata": {
        "id": "aJV4KIxSnxay"
      }
    },
    {
      "cell_type": "markdown",
      "source": [
        "### Check Unique Values for each variable."
      ],
      "metadata": {
        "id": "u3PMJOP6ngxN"
      }
    },
    {
      "cell_type": "code",
      "source": [
        "# checking number of unique values\n",
        "data.nunique()"
      ],
      "metadata": {
        "id": "CFMmJ9GXa-mo"
      },
      "execution_count": null,
      "outputs": []
    },
    {
      "cell_type": "markdown",
      "source": [
        "## 3. ***Data Wrangling***"
      ],
      "metadata": {
        "id": "dauF4eBmngu3"
      }
    },
    {
      "cell_type": "markdown",
      "source": [
        "Now first of all we will make a copy of our main data, so that our main data will remain same."
      ],
      "metadata": {
        "id": "CseJksLCqbX8"
      }
    },
    {
      "cell_type": "code",
      "source": [
        "# making a copy of our origional data and store it into 'df'\n",
        "df = data.copy()"
      ],
      "metadata": {
        "id": "wNnfp73pIWoK"
      },
      "execution_count": null,
      "outputs": []
    },
    {
      "cell_type": "markdown",
      "source": [
        "#### **Handeling NaN Values**\n",
        "\n",
        "---"
      ],
      "metadata": {
        "id": "PDHDS8oCjik_"
      }
    },
    {
      "cell_type": "code",
      "source": [
        "# which columns have null values\n",
        "df.isnull().sum()"
      ],
      "metadata": {
        "id": "oPZGlsISJl4E"
      },
      "execution_count": null,
      "outputs": []
    },
    {
      "cell_type": "markdown",
      "source": [
        "We have seen that our data have some missing/NaN values \\\n",
        "\n",
        "**children has 4, country has 488, agent has 16340, company has 112593** \\\n",
        "\n",
        "so we will fill all NaN value with below values - \\\n",
        "\n",
        "***children : 0, country : unknown, agent : 0, company : 0***"
      ],
      "metadata": {
        "id": "fQXmHKJ7qtSn"
      }
    },
    {
      "cell_type": "code",
      "source": [
        "# We've stored dictionary (where key is columns and value is replacement of NaN) into 'replace_NaN' var\n",
        "replace_NaN = {'children':0, 'country':'unknown', 'agent':0, 'company':0}\n",
        "\n",
        "# Now using fillna will replace all NaN value from df\n",
        "df.fillna(replace_NaN, inplace = True)\n",
        "\n",
        "# Checking there is any NaN value ?\n",
        "df.isna().sum()"
      ],
      "metadata": {
        "id": "rNbRjg4wIXs2"
      },
      "execution_count": null,
      "outputs": []
    },
    {
      "cell_type": "markdown",
      "source": [
        "#### **Cleaning data & Feature engineering**\n",
        "\n",
        "---"
      ],
      "metadata": {
        "id": "0I3MXve_l8AE"
      }
    },
    {
      "cell_type": "code",
      "source": [
        "# checking which columns is float type\n",
        "df.loc[:, df.dtypes == float].sample(10)\n",
        "\n",
        "# Converting datatype of columns 'children', 'company' and 'agent' from float to int.\n",
        "df[['children', 'company', 'agent']] = df[['children', 'company', 'agent']].astype(int)\n",
        "\n",
        "# checking again \n",
        "df.info()"
      ],
      "metadata": {
        "id": "1U29kQCZNphP"
      },
      "execution_count": null,
      "outputs": []
    },
    {
      "cell_type": "markdown",
      "source": [
        "Some entries has 0 visitors so better to remove those rows"
      ],
      "metadata": {
        "id": "IYgMzLnEnVFn"
      }
    },
    {
      "cell_type": "code",
      "source": [
        "# Here we are fetching entries that do not have 0 adults with 0 children and 0 babies, and storing into itself\n",
        "df = df[~((df['adults'] ==0) & (df['babies'] ==0) & (df['children'] ==0))]\n",
        "\n",
        "# After clearing rows which do not have any visitors\n",
        "df.shape"
      ],
      "metadata": {
        "id": "CLe-xChueHV4"
      },
      "execution_count": null,
      "outputs": []
    },
    {
      "cell_type": "markdown",
      "source": [
        "We have children and babies columns, so better to add those and make a new column, kids"
      ],
      "metadata": {
        "id": "q9pWePsln9kE"
      }
    },
    {
      "cell_type": "code",
      "source": [
        "# Puting children and babies into one column called kids\n",
        "df['kids'] = df['children'] + df['babies']\n",
        "\n",
        "# Kids column is float type\n",
        "df['kids'].dtype\n",
        "\n",
        "# Converting kids column, float to int\n",
        "df['kids'] = df['kids'].astype('int')\n",
        "df['kids']"
      ],
      "metadata": {
        "id": "ZPcEhiTOJL1H"
      },
      "execution_count": null,
      "outputs": []
    },
    {
      "cell_type": "markdown",
      "source": [
        "For getting number of all members who have visited hotel, we will add adults and kids and make a new column, total member"
      ],
      "metadata": {
        "id": "Z4yk2MzVo_39"
      }
    },
    {
      "cell_type": "code",
      "source": [
        "# total members \n",
        "df['total_member'] = df['adults'] + df['kids']\n",
        "df['total_member']"
      ],
      "metadata": {
        "id": "MG47ZWZ7MBJ3"
      },
      "execution_count": null,
      "outputs": []
    },
    {
      "cell_type": "markdown",
      "source": [
        "In data we have 4 type of meal plan \\\n",
        "\n",
        "1.   BB - Bed and Breakfast\n",
        "2.   HB - Half Board \n",
        "3.   SC - Room Only or Self Catering\n",
        "4.   FB - Full Board \\\n",
        "\n",
        "We have Undefined meal plan so better to replace Undefined to SC"
      ],
      "metadata": {
        "id": "4MbIQRaNpvJj"
      }
    },
    {
      "cell_type": "code",
      "source": [
        "# meal unique values count\n",
        "df['meal'].value_counts()\n",
        "\n",
        "# replace 'Undefined' value to 'SC'\n",
        "df.replace(to_replace = 'Undefined', value = 'SC', inplace=True)\n",
        "\n",
        "# after replacing meal's unique values count\n",
        "df.meal.value_counts()"
      ],
      "metadata": {
        "id": "SfRP7_gYqdHx"
      },
      "execution_count": null,
      "outputs": []
    },
    {
      "cell_type": "markdown",
      "source": [
        "We have added a total night column"
      ],
      "metadata": {
        "id": "UASaQ_dfSEtQ"
      }
    },
    {
      "cell_type": "code",
      "source": [
        "# Adding total staying nights in hotels\n",
        "df['total_nights'] = df['stays_in_weekend_nights'] + df['stays_in_week_nights']\n",
        "\n",
        "df['total_nights']"
      ],
      "metadata": {
        "id": "qi2sLY8ORmCu"
      },
      "execution_count": null,
      "outputs": []
    },
    {
      "cell_type": "markdown",
      "source": [
        "### <h1> **EDA** </h1>"
      ],
      "metadata": {
        "id": "geOsDj1YlyTu"
      }
    },
    {
      "cell_type": "markdown",
      "source": [
        "* Corelation among all numaric vars. \n",
        "* Many of them is numeric values but they are actully a catagorical vars like - is_canceled, agent\n",
        "* So we will take manually numarical vars "
      ],
      "metadata": {
        "id": "DRMXOI3eeshC"
      }
    },
    {
      "cell_type": "code",
      "source": [
        "# takes numerical vars\n",
        "numeric_vars = df[['lead_time','previous_cancellations','previous_bookings_not_canceled','booking_changes','days_in_waiting_list','adr','required_car_parking_spaces','total_of_special_requests', 'total_member','total_nights']]\n",
        "numeric_vars"
      ],
      "metadata": {
        "id": "X700rG1IZ3PP"
      },
      "execution_count": null,
      "outputs": []
    },
    {
      "cell_type": "code",
      "source": [
        "# correlation \n",
        "cor_var = numeric_vars.corr()\n",
        "\n",
        "# figure size\n",
        "plt.figure(figsize=(20, 7))\n",
        "\n",
        "# ploting heatmap of corelation map\n",
        "sns.heatmap(cor_var, annot = True,fmt='.2f', vmax=.8,);"
      ],
      "metadata": {
        "id": "HKyS4QVoa5ci"
      },
      "execution_count": null,
      "outputs": []
    },
    {
      "cell_type": "code",
      "source": [
        "# define some useful color variable which we will use in other part\n",
        "\n",
        "color1 = ['#FB9C74', '#648787']\n",
        "color2 = ['hotpink', 'pink']\n",
        "color3 = ['#7fe7dc', '#ced7d8']\n",
        "color4 = ['#ff9999','#66b3ff','#99ff99','#ffcc99']"
      ],
      "metadata": {
        "id": "RNLPGBlRZ7oO"
      },
      "execution_count": null,
      "outputs": []
    },
    {
      "cell_type": "code",
      "source": [
        "# making a function for plotting outlier box and scatter chart\n",
        "\n",
        "# try:\n",
        "def check_outlier(col):\n",
        "  '''\n",
        "    function for ploting boxplot and scatter plot\n",
        "    we are taking column name parameter called (col)\n",
        "    and pass to the x and y variable of plots\n",
        "  '''\n",
        "  try: \n",
        "    fig, axes = plt.subplots(1, 2, figsize=(14, 6))\n",
        "    axes[0].boxplot(x = df[col])\n",
        "    axes[0].set_title('Box Plot')\n",
        "    axes[1].scatter(x = df[col].index, y = df[col].values)\n",
        "    axes[1].set_title('Scatter Plot')\n",
        "  except:\n",
        "    print('Sorry this column does not exist in Data')\n",
        "\n"
      ],
      "metadata": {
        "id": "LCeZBaqP4vgk"
      },
      "execution_count": null,
      "outputs": []
    },
    {
      "cell_type": "code",
      "source": [
        "df.columns"
      ],
      "metadata": {
        "id": "MU8fk-0zPbKp"
      },
      "execution_count": null,
      "outputs": []
    },
    {
      "cell_type": "markdown",
      "source": [
        "### **Objectives**"
      ],
      "metadata": {
        "id": "RuIQmcDQv5lh"
      }
    },
    {
      "cell_type": "markdown",
      "source": [
        "#### **Que 1. Compare which hotel people prefer more ? (resort hotel or city hotel)**\n",
        "---"
      ],
      "metadata": {
        "id": "pyat4pQ5UIkl"
      }
    },
    {
      "cell_type": "code",
      "source": [
        "# Which hotel have more visitors \n",
        "hotel_counts = df['hotel'].value_counts()\n",
        "hotel_counts"
      ],
      "metadata": {
        "id": "iGgX6W-o14I1"
      },
      "execution_count": null,
      "outputs": []
    },
    {
      "cell_type": "code",
      "source": [
        "# Bar chart for Hotel visitors \n",
        "plt.rcParams['figure.figsize'] = (5, 3)\n",
        "plt.bar(hotel_counts.index, hotel_counts.values, color = color1)"
      ],
      "metadata": {
        "id": "ekMjtR-7v5LH"
      },
      "execution_count": null,
      "outputs": []
    },
    {
      "cell_type": "code",
      "source": [
        "# Pie chart for Hotel visitors \n",
        "## Pie chart takes 1d array so using np.array we have convert it to array\n",
        "x = np.array(hotel_counts.values)      \n",
        "plt.pie(x, labels = hotel_counts.index, explode=[0,0.1], colors = color2)"
      ],
      "metadata": {
        "id": "x1Zj_aVBwA_v"
      },
      "execution_count": null,
      "outputs": []
    },
    {
      "cell_type": "markdown",
      "source": [
        "**People prefer City hotel as compare to Resort hotel**"
      ],
      "metadata": {
        "id": "e3X1mYySQ55U"
      }
    },
    {
      "cell_type": "markdown",
      "source": [
        "#### **3. Which months have more visitor or which is the busiest month.**\n",
        "---"
      ],
      "metadata": {
        "id": "yML8zFg1V4Es"
      }
    },
    {
      "cell_type": "code",
      "source": [
        "# Counting visitors per months (overall hotel) \n",
        "visitor_per_month = df.groupby(['arrival_date_month'])['total_member'].count()\n",
        "visitor_per_month"
      ],
      "metadata": {
        "id": "6nzqUXmP59fp"
      },
      "execution_count": null,
      "outputs": []
    },
    {
      "cell_type": "code",
      "source": [
        "# Figure size\n",
        "fig, ax = plt.subplots(figsize=(12,4))\n",
        "\n",
        "# Ploting seaborn bar chart\n",
        "sns.barplot(x = visitor_per_month.index , y = visitor_per_month.values )"
      ],
      "metadata": {
        "id": "JTSW4yfWmX32"
      },
      "execution_count": null,
      "outputs": []
    },
    {
      "cell_type": "code",
      "source": [
        "# Counting visitors per months in hotel (hotelwise)\n",
        "visitors = df.groupby(['arrival_date_month', 'hotel'])['total_member'].count().unstack()\n",
        "visitors"
      ],
      "metadata": {
        "id": "MIrTOATCPhTz"
      },
      "execution_count": null,
      "outputs": []
    },
    {
      "cell_type": "code",
      "source": [
        "# Plotting graphs and comparing resort hotel and city hotel visitors per month (hotelwise)\n",
        "\n",
        "# size of chart\n",
        "plt.rcParams['figure.figsize'] = 12, 4\n",
        "\n",
        "# syle for chart\n",
        "sns.set(style=\"whitegrid\")\n",
        "\n",
        "# using lineplot creating chart\n",
        "sns.lineplot(data=visitors, markers=True)"
      ],
      "metadata": {
        "id": "UrwDBcWXKoEw"
      },
      "execution_count": null,
      "outputs": []
    },
    {
      "cell_type": "markdown",
      "source": [
        "**Hotel's** most busiest months is **August** followed by **July** and **may** \\\n",
        "**City Hotel's** most busiest months is **August** followed by **May** and **July** \\\n",
        "**Resort Hotel's** most busiest months is **August** follwed by **July** and **April**"
      ],
      "metadata": {
        "id": "bJp3-WtVJBWn"
      }
    },
    {
      "cell_type": "markdown",
      "source": [
        "#### **4. What's the average days of stay?**\n",
        "---"
      ],
      "metadata": {
        "id": "VYdyD5OsIowU"
      }
    },
    {
      "cell_type": "code",
      "source": [
        "# checking outlier\n",
        "check_outlier('total_nights')"
      ],
      "metadata": {
        "id": "6v8QnKaboZya"
      },
      "execution_count": null,
      "outputs": []
    },
    {
      "cell_type": "markdown",
      "source": [
        "As we can see there is no any outlier"
      ],
      "metadata": {
        "id": "dF8YUS_3px1m"
      }
    },
    {
      "cell_type": "markdown",
      "source": [
        "**Average stay for hotel (overall hotel)**"
      ],
      "metadata": {
        "id": "WXyCMV7jMoGq"
      }
    },
    {
      "cell_type": "code",
      "source": [
        "avg_stay = df['total_nights'].sum() / df['total_nights'].count()\n",
        "round(avg_stay)"
      ],
      "metadata": {
        "id": "Fq2ivo1GmfMQ"
      },
      "execution_count": null,
      "outputs": []
    },
    {
      "cell_type": "markdown",
      "source": [
        "**Average stay for both hotel (hotelwise)**"
      ],
      "metadata": {
        "id": "cfzqNvwdOXgZ"
      }
    },
    {
      "cell_type": "code",
      "source": [
        "# city and resort hotel's total_nights \n",
        "city_hotel = df[df['hotel']=='City Hotel']['total_nights']\n",
        "resort_hotel = df[df['hotel']=='Resort Hotel']['total_nights']\n",
        "\n",
        "# mean for city hotel\n",
        "avr_stay_city = round(city_hotel.mean())\n",
        "\n",
        "# mean for resort hotel\n",
        "avr_stay_resort = round(resort_hotel.mean())"
      ],
      "metadata": {
        "id": "cvlLEfa9B8vh"
      },
      "execution_count": null,
      "outputs": []
    },
    {
      "cell_type": "code",
      "source": [
        "# Average stay in city hotel\n",
        "avr_stay_city "
      ],
      "metadata": {
        "id": "KJWAxnSbvv2X"
      },
      "execution_count": null,
      "outputs": []
    },
    {
      "cell_type": "code",
      "source": [
        "# Average stay in resort hotel\n",
        "avr_stay_resort"
      ],
      "metadata": {
        "id": "W5LYTXVfRP_I"
      },
      "execution_count": null,
      "outputs": []
    },
    {
      "cell_type": "code",
      "source": [
        "plt.figure(figsize = (5,3))\n",
        "\n",
        "labels = ['City Hotel', 'Resort Hotel']\n",
        "data = [avr_stay_city, avr_stay_resort]\n",
        "\n",
        "# ploting bar chart\n",
        "plt.bar(labels, data, color = color4)"
      ],
      "metadata": {
        "id": "nB7yR5DH6vqD"
      },
      "execution_count": null,
      "outputs": []
    },
    {
      "cell_type": "markdown",
      "source": [
        "**City hotel has 3 days average stay** \\\n",
        "**Resort hotel has 4 days average stay** \\\n",
        "**Overall people stay in hotel is 3 average days**"
      ],
      "metadata": {
        "id": "ptMp1te-I95O"
      }
    },
    {
      "cell_type": "markdown",
      "source": [
        "#### **5.what meal plan people prefered?**\n",
        "---"
      ],
      "metadata": {
        "id": "3eQuApsmsHgc"
      }
    },
    {
      "cell_type": "code",
      "source": [
        "meal = df['meal'].value_counts()\n",
        "meal"
      ],
      "metadata": {
        "id": "HsYC3jOhsahU"
      },
      "execution_count": null,
      "outputs": []
    },
    {
      "cell_type": "code",
      "source": [
        "plt.pie(np.array(meal.values), labels=meal.index, explode = [0.05, 0.05, 0.05, 0.05], autopct='%1.1f%%', pctdistance=1.4, colors= color4)"
      ],
      "metadata": {
        "id": "XC9BIXtBss-b"
      },
      "execution_count": null,
      "outputs": []
    },
    {
      "cell_type": "markdown",
      "source": [
        "**People prefer mostly BB (Bed & Breakfast) meal plan** \\\n",
        "**and only 0.7% people prefer FB(Full Board)**"
      ],
      "metadata": {
        "id": "_cKiRzI7v8LI"
      }
    },
    {
      "cell_type": "markdown",
      "source": [
        "#### **6. How many bookings were cancelled, How many guest did not canceled their bookings, which months have highest no of cancellation?**\n",
        "---"
      ],
      "metadata": {
        "id": "Z8xUzdw3w-U1"
      }
    },
    {
      "cell_type": "markdown",
      "source": [
        "##### **How many bookings were cancelled ?**"
      ],
      "metadata": {
        "id": "oc_U415E2POE"
      }
    },
    {
      "cell_type": "code",
      "source": [
        "# both hotel's cancelation \n",
        "df.is_canceled.sum()\n",
        "cancellation_perc = (df.is_canceled.sum()/len(df)) * 100\n",
        "round(cancellation_perc,2)"
      ],
      "metadata": {
        "id": "ZUxhFBIlxBho"
      },
      "execution_count": null,
      "outputs": []
    },
    {
      "cell_type": "code",
      "source": [
        "# resort hotel's booking canceled \n",
        "rh_cancel = df[df['hotel'] == 'Resort Hotel']['is_canceled'].sum()\n",
        "rh_cancel"
      ],
      "metadata": {
        "id": "VwkhBtBW5xA8"
      },
      "execution_count": null,
      "outputs": []
    },
    {
      "cell_type": "code",
      "source": [
        "# city hotel's booking canceled \n",
        "ch_cancel = df[df['hotel'] == 'City Hotel']['is_canceled'].sum()\n",
        "ch_cancel"
      ],
      "metadata": {
        "id": "V-zCH1-j6Lk1"
      },
      "execution_count": null,
      "outputs": []
    },
    {
      "cell_type": "code",
      "source": [
        "# ploting pie chart for both hotel with percentages of cancellation \n",
        "plt.pie(np.array([rh_cancel, ch_cancel]), autopct = '%1.1f%%', labels = ['City Hotel', 'Resort Hotel'], colors= color3)"
      ],
      "metadata": {
        "id": "f2yUrcRk3afH"
      },
      "execution_count": null,
      "outputs": []
    },
    {
      "cell_type": "markdown",
      "source": [
        "*   37.08 % people cancel thier booking in hotels\n",
        "*   74.8 % cancel their bookings in **Resort hotels**\n",
        "*   25.2 % cancel their bookings in **City hotels**\n",
        "\n",
        "**Cancellation percentage in Resort Hotel is much higher than City Hotel**  \n"
      ],
      "metadata": {
        "id": "UrUkuy2x7aOH"
      }
    },
    {
      "cell_type": "markdown",
      "source": [
        "##### **How many people did not cancelled their bookings**"
      ],
      "metadata": {
        "id": "rtjnA136fV1G"
      }
    },
    {
      "cell_type": "code",
      "source": [
        "# both hotel's booking canceled and not canceled \n",
        "df.groupby(['hotel','is_canceled'])['is_canceled'].count()"
      ],
      "metadata": {
        "id": "fpeXI4lQAufb"
      },
      "execution_count": null,
      "outputs": []
    },
    {
      "cell_type": "code",
      "source": [
        "plt.figure(figsize = (8,4))\n",
        "sns.countplot(x='hotel', hue = 'is_canceled', data =df)\n",
        "plt.legend(['Not Canceled', 'Canceled'])"
      ],
      "metadata": {
        "id": "dRa3w66SRRxA"
      },
      "execution_count": null,
      "outputs": []
    },
    {
      "cell_type": "markdown",
      "source": [
        "*   In **City hotel** more than **40,000** people **not canceled** thier bookings\n",
        "*   In **Resort hotel** more than **25,000** people **not canceled** thier bookings"
      ],
      "metadata": {
        "id": "IdYcU9e9w-U4"
      }
    },
    {
      "cell_type": "markdown",
      "source": [
        "##### **Which month has more and which month has less booking Cancelation**"
      ],
      "metadata": {
        "id": "eAEg69u1gb5s"
      }
    },
    {
      "cell_type": "code",
      "source": [
        "# group the data and calculate the count of canceled and not canceled bookings\n",
        "monthly_booking_canceled = df.groupby(['arrival_date_month', 'is_canceled'])['is_canceled'].count().unstack()\n",
        "monthly_booking_canceled"
      ],
      "metadata": {
        "id": "2qtrf_9RdYAQ"
      },
      "execution_count": null,
      "outputs": []
    },
    {
      "cell_type": "code",
      "source": [
        "df.is_canceled.value_counts().values"
      ],
      "metadata": {
        "id": "izhmM-4eeBwD"
      },
      "execution_count": null,
      "outputs": []
    },
    {
      "cell_type": "code",
      "source": [
        "sns.countplot(data = df, x = 'arrival_date_month', hue = 'is_canceled').set(xlabel =\"Months\", ylabel = \"Counts\")"
      ],
      "metadata": {
        "id": "KzqqzbfHm1am"
      },
      "execution_count": null,
      "outputs": []
    },
    {
      "cell_type": "markdown",
      "source": [
        "*   **August** month has more than **5,000** people **canceled** thier bookings\n",
        "*   **January** month less than than **2,000** people **canceled** thier bookings"
      ],
      "metadata": {
        "id": "iJ2yln4CkOVo"
      }
    },
    {
      "cell_type": "markdown",
      "source": [
        "#### **7. From which country most people are coming ?**\n",
        "---"
      ],
      "metadata": {
        "id": "ywDWP8wKMQHw"
      }
    },
    {
      "cell_type": "code",
      "source": [
        "df.country"
      ],
      "metadata": {
        "id": "ON5q9W-RMQHy"
      },
      "execution_count": null,
      "outputs": []
    },
    {
      "cell_type": "markdown",
      "source": [
        "**From which country people are most travelling**"
      ],
      "metadata": {
        "id": "zRKjBgryQM4e"
      }
    },
    {
      "cell_type": "code",
      "source": [
        "# top 10 country's guest \n",
        "# value count of those guests who did not canceled their booking \n",
        "c_count = df[df['is_canceled'] == 0]['country'].value_counts()[:10]\n",
        "c_count"
      ],
      "metadata": {
        "id": "huYMUhmCM6Kg"
      },
      "execution_count": null,
      "outputs": []
    },
    {
      "cell_type": "code",
      "source": [
        "# ploting chart\n",
        "plt.figure(figsize = (10,5))\n",
        "plt.barh(c_count.index, c_count.values, color= color1 + color2 + color3 + color4)\n",
        "plt.xlabel(\"Country\")\n",
        "plt.ylabel(\"Number of bookings\")\n",
        "plt.title(\"Bookings by countries\")"
      ],
      "metadata": {
        "id": "pXxmZ0WDmHur"
      },
      "execution_count": null,
      "outputs": []
    },
    {
      "cell_type": "markdown",
      "source": [
        "Mostly people are coming from **Portugal** followed by **Great Britain**"
      ],
      "metadata": {
        "id": "HCS_DC3ZMQHz"
      }
    },
    {
      "cell_type": "markdown",
      "source": [
        "#### **8. Agent who made most bookings ?**\n",
        "---"
      ],
      "metadata": {
        "id": "xPt3MUVimqp0"
      }
    },
    {
      "cell_type": "code",
      "source": [
        "df.agent.unique()"
      ],
      "metadata": {
        "id": "kwq6vCHuwZP1"
      },
      "execution_count": null,
      "outputs": []
    },
    {
      "cell_type": "code",
      "source": [
        "# fetching top 10 those agent whose booking isn't 0, into agent_booking var\n",
        "agent_booking = df[~(df.agent == 0)]['agent'].sort_values().value_counts()[:10]\n",
        "\n",
        "# reseting index\n",
        "agent_booking.reset_index()"
      ],
      "metadata": {
        "id": "9ylj2blUmqp3"
      },
      "execution_count": null,
      "outputs": []
    },
    {
      "cell_type": "code",
      "source": [
        "# barplot according to agent's booking values\n",
        "sns.barplot(x = agent_booking.index, y= agent_booking.values)\n",
        "plt.xlabel('Agent') \n",
        "plt.ylabel('Bookings')"
      ],
      "metadata": {
        "id": "HlLIrDes505x"
      },
      "execution_count": null,
      "outputs": []
    },
    {
      "cell_type": "markdown",
      "source": [
        "**Agent 9** has made most number of bookings followed by **agent 240**"
      ],
      "metadata": {
        "id": "1QokwTppmqp4"
      }
    },
    {
      "cell_type": "markdown",
      "source": [
        "#### **9. What is the distribution of ADR (Average Daily Rate) in the dataset for different total guest counts?**\n",
        "---"
      ],
      "metadata": {
        "id": "W7voryzw9kTG"
      }
    },
    {
      "cell_type": "code",
      "source": [
        "# plotting subplots for checking any outlier\n",
        "check_outlier('adr')"
      ],
      "metadata": {
        "id": "SOs2QgbTALKg"
      },
      "execution_count": null,
      "outputs": []
    },
    {
      "cell_type": "markdown",
      "source": [
        "As it showing an outlier which is much far away from normal values, while other values are less than 1000, so better to remove "
      ],
      "metadata": {
        "id": "QGcso-lmWFEj"
      }
    },
    {
      "cell_type": "code",
      "source": [
        "# removing outlier\n",
        "df.drop(df[df['adr'] > 1000 ].index, inplace = True)"
      ],
      "metadata": {
        "id": "HbYB1W8dVy5P"
      },
      "execution_count": null,
      "outputs": []
    },
    {
      "cell_type": "code",
      "source": [
        "# checking outlier row\n",
        "df[df['adr'] > 1000 ]"
      ],
      "metadata": {
        "id": "XroNf-psXHM9"
      },
      "execution_count": null,
      "outputs": []
    },
    {
      "cell_type": "markdown",
      "source": [
        "We have successfully removed outlier"
      ],
      "metadata": {
        "id": "_MwQedjtKSuR"
      }
    },
    {
      "cell_type": "code",
      "source": [
        "# Calculate mean adr for each group of total guests\n",
        "grouped_df = df.groupby('total_member')['adr'].mean()\n",
        "grouped_df"
      ],
      "metadata": {
        "id": "EcYCZx6OTF2Y"
      },
      "execution_count": null,
      "outputs": []
    },
    {
      "cell_type": "code",
      "source": [
        "# Plot histogram\n",
        "sns.histplot(df['adr'], bins = 20, kde = True)\n",
        "\n",
        "# Add labels and title\n",
        "plt.xlabel('ADR')\n",
        "plt.ylabel('Frequency')\n",
        "plt.title('Histogram of ADR for Different Total Guest Counts')"
      ],
      "metadata": {
        "id": "JQzoMJPDX71X"
      },
      "execution_count": null,
      "outputs": []
    },
    {
      "cell_type": "markdown",
      "source": [
        "#### **10. Agent who made most bookings ?**\n",
        "---"
      ],
      "metadata": {
        "id": "TuRSWa8DesSJ"
      }
    },
    {
      "cell_type": "code",
      "source": [
        "df.agent.unique()"
      ],
      "metadata": {
        "id": "oitrU3EMesSK"
      },
      "execution_count": null,
      "outputs": []
    },
    {
      "cell_type": "code",
      "source": [
        "agent_booking = df[~(df.agent == 0)]['agent'].value_counts()[:10]\n",
        "agent_booking.reset_index()"
      ],
      "metadata": {
        "id": "orG9XUUbesSL"
      },
      "execution_count": null,
      "outputs": []
    },
    {
      "cell_type": "code",
      "source": [
        "sns.barplot(x = agent_booking.index, y= agent_booking.values)\n",
        "plt.xlabel('Agent')\n",
        "plt.ylabel('Bookings')"
      ],
      "metadata": {
        "id": "xUPe9KqgesSL"
      },
      "execution_count": null,
      "outputs": []
    },
    {
      "cell_type": "markdown",
      "source": [
        "**Agent 9** has made most bookings followed by **agent 240**"
      ],
      "metadata": {
        "id": "J9K_RXS7esSM"
      }
    },
    {
      "cell_type": "markdown",
      "source": [
        "#### **11 Which room type is booked most, What room type guest booked and what they assigned?**\n",
        "---"
      ],
      "metadata": {
        "id": "NSEEMNvjfh9x"
      }
    },
    {
      "cell_type": "code",
      "source": [
        "# code for subplot\n",
        "fig, axes = plt.subplots(1, 2, figsize=(18, 8))\n",
        "\n",
        "# counting reserve room type\n",
        "reserve_room = df.reserved_room_type.value_counts()\n",
        "\n",
        "# calculate percentage of reserved room types\n",
        "reserve_room_pct = reserve_room / reserve_room.sum() * 100\n",
        "\n",
        "# counting assigned room type\n",
        "assign_room = df.assigned_room_type.value_counts()\n",
        "\n",
        "# calculate percentage of assigned room types\n",
        "assign_room_pct = assign_room / assign_room.sum() * 100\n",
        "\n",
        "\n",
        "\n",
        "# ploting reserve room\n",
        "axes[0].bar(reserve_room_pct.index, reserve_room_pct.values)\n",
        "axes[0].set_xlabel('Room Types')\n",
        "axes[0].set_ylabel('Percentage')\n",
        "axes[0].set_title('Reserved Room Types')\n",
        "\n",
        "# ploting assigned room\n",
        "axes[1].bar(assign_room_pct.index, assign_room_pct.values)\n",
        "axes[1].set_xlabel('Room Types')\n",
        "axes[1].set_ylabel('Percentage')\n",
        "axes[1].set_title('Assigned Room Types')\n"
      ],
      "metadata": {
        "id": "EP1P0Jxofywq"
      },
      "execution_count": null,
      "outputs": []
    },
    {
      "cell_type": "markdown",
      "source": [
        "* Most reserve room type is A, followed by D and E\n",
        "* More than 70 % guest booked room type A but almost 60 % assigned \n",
        "* While almost 15 % guest booked D room type but more than 20 % assigned"
      ],
      "metadata": {
        "id": "Y8gdWV1Cfywq"
      }
    },
    {
      "cell_type": "markdown",
      "source": [
        "As it showing an outlier which is greater than 5000 "
      ],
      "metadata": {
        "id": "dPgGX-FJfh9y"
      }
    },
    {
      "cell_type": "markdown",
      "source": [
        "### What all manipulations have you done and insights you found?"
      ],
      "metadata": {
        "id": "MSa1f5Uengrz"
      }
    },
    {
      "cell_type": "markdown",
      "source": [
        "Answer Here. \\\n",
        "\n",
        "\n",
        "1.   **Comparing hotel preferences --**\n",
        "*   **Insight -** Guest prefer City hotel\n",
        "\n",
        "2.   **Best time to travel --** not right\n",
        "*   **Insight -** Guest prefer City hotel\n",
        "\n",
        "3.   **Busiest months --**\n",
        "* **Insight -** We can see August is most busiest month\n",
        "\n",
        "4.   **Average day of stay --** \n",
        "*   **Insight -** The average length of stay for guests in a hotel is 2 days, with city hotel guests staying for an average of 3 days and resort hotel guests staying for an average of 4 days.\n",
        "\n",
        "5.   **Meal plan preferences --**\n",
        "*   **Insight -** Guests prefer mostly BB (Bed & Breakfast) meal plan\n",
        "\n",
        "6.  **Cancellation rates --**\n",
        "*   **Insights -** Cancellation percentages in Resort hotel is much higher than City hotel. **August** month has more cancellation and **January** month has less cancellation\n",
        "\n",
        "7.   **Countries of guests --**\n",
        "*   **Insight -** Mostly guests are coming from **Portugal** followed by **Great Britain**\n"
      ],
      "metadata": {
        "id": "LbyXE7I1olp8"
      }
    },
    {
      "cell_type": "markdown",
      "source": [
        "## ***4. Data Vizualization, Storytelling & Experimenting with charts : Understand the relationships between variables***"
      ],
      "metadata": {
        "id": "GF8Ens_Soomf"
      }
    },
    {
      "cell_type": "markdown",
      "source": [
        "#### Chart - 1"
      ],
      "metadata": {
        "id": "0wOQAZs5pc--"
      }
    },
    {
      "cell_type": "code",
      "source": [
        "# Chart - 1 visualization code"
      ],
      "metadata": {
        "id": "7v_ESjsspbW7"
      },
      "execution_count": null,
      "outputs": []
    },
    {
      "cell_type": "markdown",
      "source": [
        "##### 1. Why did you pick the specific chart?"
      ],
      "metadata": {
        "id": "K5QZ13OEpz2H"
      }
    },
    {
      "cell_type": "markdown",
      "source": [
        "Answer Here."
      ],
      "metadata": {
        "id": "XESiWehPqBRc"
      }
    },
    {
      "cell_type": "markdown",
      "source": [
        "##### 2. What is/are the insight(s) found from the chart?"
      ],
      "metadata": {
        "id": "lQ7QKXXCp7Bj"
      }
    },
    {
      "cell_type": "markdown",
      "source": [
        "Answer Here"
      ],
      "metadata": {
        "id": "C_j1G7yiqdRP"
      }
    },
    {
      "cell_type": "markdown",
      "source": [
        "##### 3. Will the gained insights help creating a positive business impact? \n",
        "Are there any insights that lead to negative growth? Justify with specific reason."
      ],
      "metadata": {
        "id": "448CDAPjqfQr"
      }
    },
    {
      "cell_type": "markdown",
      "source": [
        "Answer Here"
      ],
      "metadata": {
        "id": "3cspy4FjqxJW"
      }
    },
    {
      "cell_type": "markdown",
      "source": [
        "#### Chart - 2"
      ],
      "metadata": {
        "id": "KSlN3yHqYklG"
      }
    },
    {
      "cell_type": "code",
      "source": [
        "# Chart - 2 visualization code"
      ],
      "metadata": {
        "id": "R4YgtaqtYklH"
      },
      "execution_count": null,
      "outputs": []
    },
    {
      "cell_type": "markdown",
      "source": [
        "##### 1. Why did you pick the specific chart?"
      ],
      "metadata": {
        "id": "t6dVpIINYklI"
      }
    },
    {
      "cell_type": "markdown",
      "source": [
        "Answer Here."
      ],
      "metadata": {
        "id": "5aaW0BYyYklI"
      }
    },
    {
      "cell_type": "markdown",
      "source": [
        "##### 2. What is/are the insight(s) found from the chart?"
      ],
      "metadata": {
        "id": "ijmpgYnKYklI"
      }
    },
    {
      "cell_type": "markdown",
      "source": [
        "Answer Here"
      ],
      "metadata": {
        "id": "PSx9atu2YklI"
      }
    },
    {
      "cell_type": "markdown",
      "source": [
        "##### 3. Will the gained insights help creating a positive business impact? \n",
        "Are there any insights that lead to negative growth? Justify with specific reason."
      ],
      "metadata": {
        "id": "-JiQyfWJYklI"
      }
    },
    {
      "cell_type": "markdown",
      "source": [
        "Answer Here"
      ],
      "metadata": {
        "id": "BcBbebzrYklV"
      }
    },
    {
      "cell_type": "markdown",
      "source": [
        "#### Chart - 3"
      ],
      "metadata": {
        "id": "EM7whBJCYoAo"
      }
    },
    {
      "cell_type": "code",
      "source": [
        "# Chart - 3 visualization code"
      ],
      "metadata": {
        "id": "t6GMdE67YoAp"
      },
      "execution_count": null,
      "outputs": []
    },
    {
      "cell_type": "markdown",
      "source": [
        "##### 1. Why did you pick the specific chart?"
      ],
      "metadata": {
        "id": "fge-S5ZAYoAp"
      }
    },
    {
      "cell_type": "markdown",
      "source": [
        "Answer Here."
      ],
      "metadata": {
        "id": "5dBItgRVYoAp"
      }
    },
    {
      "cell_type": "markdown",
      "source": [
        "##### 2. What is/are the insight(s) found from the chart?"
      ],
      "metadata": {
        "id": "85gYPyotYoAp"
      }
    },
    {
      "cell_type": "markdown",
      "source": [
        "Answer Here"
      ],
      "metadata": {
        "id": "4jstXR6OYoAp"
      }
    },
    {
      "cell_type": "markdown",
      "source": [
        "##### 3. Will the gained insights help creating a positive business impact? \n",
        "Are there any insights that lead to negative growth? Justify with specific reason."
      ],
      "metadata": {
        "id": "RoGjAbkUYoAp"
      }
    },
    {
      "cell_type": "markdown",
      "source": [
        "Answer Here"
      ],
      "metadata": {
        "id": "zfJ8IqMcYoAp"
      }
    },
    {
      "cell_type": "markdown",
      "source": [
        "#### Chart - 4"
      ],
      "metadata": {
        "id": "4Of9eVA-YrdM"
      }
    },
    {
      "cell_type": "code",
      "source": [
        "# Chart - 4 visualization code"
      ],
      "metadata": {
        "id": "irlUoxc8YrdO"
      },
      "execution_count": null,
      "outputs": []
    },
    {
      "cell_type": "markdown",
      "source": [
        "##### 1. Why did you pick the specific chart?"
      ],
      "metadata": {
        "id": "iky9q4vBYrdO"
      }
    },
    {
      "cell_type": "markdown",
      "source": [
        "Answer Here."
      ],
      "metadata": {
        "id": "aJRCwT6DYrdO"
      }
    },
    {
      "cell_type": "markdown",
      "source": [
        "##### 2. What is/are the insight(s) found from the chart?"
      ],
      "metadata": {
        "id": "F6T5p64dYrdO"
      }
    },
    {
      "cell_type": "markdown",
      "source": [
        "Answer Here"
      ],
      "metadata": {
        "id": "Xx8WAJvtYrdO"
      }
    },
    {
      "cell_type": "markdown",
      "source": [
        "##### 3. Will the gained insights help creating a positive business impact? \n",
        "Are there any insights that lead to negative growth? Justify with specific reason."
      ],
      "metadata": {
        "id": "y-Ehk30pYrdP"
      }
    },
    {
      "cell_type": "markdown",
      "source": [
        "Answer Here"
      ],
      "metadata": {
        "id": "jLNxxz7MYrdP"
      }
    },
    {
      "cell_type": "markdown",
      "source": [
        "#### Chart - 5"
      ],
      "metadata": {
        "id": "bamQiAODYuh1"
      }
    },
    {
      "cell_type": "code",
      "source": [
        "# Chart - 5 visualization code"
      ],
      "metadata": {
        "id": "TIJwrbroYuh3"
      },
      "execution_count": null,
      "outputs": []
    },
    {
      "cell_type": "markdown",
      "source": [
        "##### 1. Why did you pick the specific chart?"
      ],
      "metadata": {
        "id": "QHF8YVU7Yuh3"
      }
    },
    {
      "cell_type": "markdown",
      "source": [
        "Answer Here."
      ],
      "metadata": {
        "id": "dcxuIMRPYuh3"
      }
    },
    {
      "cell_type": "markdown",
      "source": [
        "##### 2. What is/are the insight(s) found from the chart?"
      ],
      "metadata": {
        "id": "GwzvFGzlYuh3"
      }
    },
    {
      "cell_type": "markdown",
      "source": [
        "Answer Here"
      ],
      "metadata": {
        "id": "uyqkiB8YYuh3"
      }
    },
    {
      "cell_type": "markdown",
      "source": [
        "##### 3. Will the gained insights help creating a positive business impact? \n",
        "Are there any insights that lead to negative growth? Justify with specific reason."
      ],
      "metadata": {
        "id": "qYpmQ266Yuh3"
      }
    },
    {
      "cell_type": "markdown",
      "source": [
        "Answer Here"
      ],
      "metadata": {
        "id": "_WtzZ_hCYuh4"
      }
    },
    {
      "cell_type": "markdown",
      "source": [
        "#### Chart - 6"
      ],
      "metadata": {
        "id": "OH-pJp9IphqM"
      }
    },
    {
      "cell_type": "code",
      "source": [
        "# Chart - 6 visualization code"
      ],
      "metadata": {
        "id": "kuRf4wtuphqN"
      },
      "execution_count": null,
      "outputs": []
    },
    {
      "cell_type": "markdown",
      "source": [
        "##### 1. Why did you pick the specific chart?"
      ],
      "metadata": {
        "id": "bbFf2-_FphqN"
      }
    },
    {
      "cell_type": "markdown",
      "source": [
        "Answer Here."
      ],
      "metadata": {
        "id": "loh7H2nzphqN"
      }
    },
    {
      "cell_type": "markdown",
      "source": [
        "##### 2. What is/are the insight(s) found from the chart?"
      ],
      "metadata": {
        "id": "_ouA3fa0phqN"
      }
    },
    {
      "cell_type": "markdown",
      "source": [
        "Answer Here"
      ],
      "metadata": {
        "id": "VECbqPI7phqN"
      }
    },
    {
      "cell_type": "markdown",
      "source": [
        "##### 3. Will the gained insights help creating a positive business impact? \n",
        "Are there any insights that lead to negative growth? Justify with specific reason."
      ],
      "metadata": {
        "id": "Seke61FWphqN"
      }
    },
    {
      "cell_type": "markdown",
      "source": [
        "Answer Here"
      ],
      "metadata": {
        "id": "DW4_bGpfphqN"
      }
    },
    {
      "cell_type": "markdown",
      "source": [
        "#### Chart - 7"
      ],
      "metadata": {
        "id": "PIIx-8_IphqN"
      }
    },
    {
      "cell_type": "code",
      "source": [
        "# Chart - 7 visualization code"
      ],
      "metadata": {
        "id": "lqAIGUfyphqO"
      },
      "execution_count": null,
      "outputs": []
    },
    {
      "cell_type": "markdown",
      "source": [
        "##### 1. Why did you pick the specific chart?"
      ],
      "metadata": {
        "id": "t27r6nlMphqO"
      }
    },
    {
      "cell_type": "markdown",
      "source": [
        "Answer Here."
      ],
      "metadata": {
        "id": "iv6ro40sphqO"
      }
    },
    {
      "cell_type": "markdown",
      "source": [
        "##### 2. What is/are the insight(s) found from the chart?"
      ],
      "metadata": {
        "id": "r2jJGEOYphqO"
      }
    },
    {
      "cell_type": "markdown",
      "source": [
        "Answer Here"
      ],
      "metadata": {
        "id": "Po6ZPi4hphqO"
      }
    },
    {
      "cell_type": "markdown",
      "source": [
        "##### 3. Will the gained insights help creating a positive business impact? \n",
        "Are there any insights that lead to negative growth? Justify with specific reason."
      ],
      "metadata": {
        "id": "b0JNsNcRphqO"
      }
    },
    {
      "cell_type": "markdown",
      "source": [
        "Answer Here"
      ],
      "metadata": {
        "id": "xvSq8iUTphqO"
      }
    },
    {
      "cell_type": "markdown",
      "source": [
        "#### Chart - 8"
      ],
      "metadata": {
        "id": "BZR9WyysphqO"
      }
    },
    {
      "cell_type": "code",
      "source": [
        "# Chart - 8 visualization code"
      ],
      "metadata": {
        "id": "TdPTWpAVphqO"
      },
      "execution_count": null,
      "outputs": []
    },
    {
      "cell_type": "markdown",
      "source": [
        "##### 1. Why did you pick the specific chart?"
      ],
      "metadata": {
        "id": "jj7wYXLtphqO"
      }
    },
    {
      "cell_type": "markdown",
      "source": [
        "Answer Here."
      ],
      "metadata": {
        "id": "Ob8u6rCTphqO"
      }
    },
    {
      "cell_type": "markdown",
      "source": [
        "##### 2. What is/are the insight(s) found from the chart?"
      ],
      "metadata": {
        "id": "eZrbJ2SmphqO"
      }
    },
    {
      "cell_type": "markdown",
      "source": [
        "Answer Here"
      ],
      "metadata": {
        "id": "mZtgC_hjphqO"
      }
    },
    {
      "cell_type": "markdown",
      "source": [
        "##### 3. Will the gained insights help creating a positive business impact? \n",
        "Are there any insights that lead to negative growth? Justify with specific reason."
      ],
      "metadata": {
        "id": "rFu4xreNphqO"
      }
    },
    {
      "cell_type": "markdown",
      "source": [
        "Answer Here"
      ],
      "metadata": {
        "id": "ey_0qi68phqO"
      }
    },
    {
      "cell_type": "markdown",
      "source": [
        "#### Chart - 9"
      ],
      "metadata": {
        "id": "YJ55k-q6phqO"
      }
    },
    {
      "cell_type": "code",
      "source": [
        "# Chart - 9 visualization code"
      ],
      "metadata": {
        "id": "B2aS4O1ophqO"
      },
      "execution_count": null,
      "outputs": []
    },
    {
      "cell_type": "markdown",
      "source": [
        "##### 1. Why did you pick the specific chart?"
      ],
      "metadata": {
        "id": "gCFgpxoyphqP"
      }
    },
    {
      "cell_type": "markdown",
      "source": [
        "Answer Here."
      ],
      "metadata": {
        "id": "TVxDimi2phqP"
      }
    },
    {
      "cell_type": "markdown",
      "source": [
        "##### 2. What is/are the insight(s) found from the chart?"
      ],
      "metadata": {
        "id": "OVtJsKN_phqQ"
      }
    },
    {
      "cell_type": "markdown",
      "source": [
        "Answer Here"
      ],
      "metadata": {
        "id": "ngGi97qjphqQ"
      }
    },
    {
      "cell_type": "markdown",
      "source": [
        "##### 3. Will the gained insights help creating a positive business impact? \n",
        "Are there any insights that lead to negative growth? Justify with specific reason."
      ],
      "metadata": {
        "id": "lssrdh5qphqQ"
      }
    },
    {
      "cell_type": "markdown",
      "source": [
        "Answer Here"
      ],
      "metadata": {
        "id": "tBpY5ekJphqQ"
      }
    },
    {
      "cell_type": "markdown",
      "source": [
        "#### Chart - 10"
      ],
      "metadata": {
        "id": "U2RJ9gkRphqQ"
      }
    },
    {
      "cell_type": "code",
      "source": [
        "# Chart - 10 visualization code"
      ],
      "metadata": {
        "id": "GM7a4YP4phqQ"
      },
      "execution_count": null,
      "outputs": []
    },
    {
      "cell_type": "markdown",
      "source": [
        "##### 1. Why did you pick the specific chart?"
      ],
      "metadata": {
        "id": "1M8mcRywphqQ"
      }
    },
    {
      "cell_type": "markdown",
      "source": [
        "Answer Here."
      ],
      "metadata": {
        "id": "8agQvks0phqQ"
      }
    },
    {
      "cell_type": "markdown",
      "source": [
        "##### 2. What is/are the insight(s) found from the chart?"
      ],
      "metadata": {
        "id": "tgIPom80phqQ"
      }
    },
    {
      "cell_type": "markdown",
      "source": [
        "Answer Here"
      ],
      "metadata": {
        "id": "Qp13pnNzphqQ"
      }
    },
    {
      "cell_type": "markdown",
      "source": [
        "##### 3. Will the gained insights help creating a positive business impact? \n",
        "Are there any insights that lead to negative growth? Justify with specific reason."
      ],
      "metadata": {
        "id": "JMzcOPDDphqR"
      }
    },
    {
      "cell_type": "markdown",
      "source": [
        "Answer Here"
      ],
      "metadata": {
        "id": "R4Ka1PC2phqR"
      }
    },
    {
      "cell_type": "markdown",
      "source": [
        "#### Chart - 11"
      ],
      "metadata": {
        "id": "x-EpHcCOp1ci"
      }
    },
    {
      "cell_type": "code",
      "source": [
        "# Chart - 11 visualization code"
      ],
      "metadata": {
        "id": "mAQTIvtqp1cj"
      },
      "execution_count": null,
      "outputs": []
    },
    {
      "cell_type": "markdown",
      "source": [
        "##### 1. Why did you pick the specific chart?"
      ],
      "metadata": {
        "id": "X_VqEhTip1ck"
      }
    },
    {
      "cell_type": "markdown",
      "source": [
        "Answer Here."
      ],
      "metadata": {
        "id": "-vsMzt_np1ck"
      }
    },
    {
      "cell_type": "markdown",
      "source": [
        "##### 2. What is/are the insight(s) found from the chart?"
      ],
      "metadata": {
        "id": "8zGJKyg5p1ck"
      }
    },
    {
      "cell_type": "markdown",
      "source": [
        "Answer Here"
      ],
      "metadata": {
        "id": "ZYdMsrqVp1ck"
      }
    },
    {
      "cell_type": "markdown",
      "source": [
        "##### 3. Will the gained insights help creating a positive business impact? \n",
        "Are there any insights that lead to negative growth? Justify with specific reason."
      ],
      "metadata": {
        "id": "PVzmfK_Ep1ck"
      }
    },
    {
      "cell_type": "markdown",
      "source": [
        "Answer Here"
      ],
      "metadata": {
        "id": "druuKYZpp1ck"
      }
    },
    {
      "cell_type": "markdown",
      "source": [
        "#### Chart - 12"
      ],
      "metadata": {
        "id": "n3dbpmDWp1ck"
      }
    },
    {
      "cell_type": "code",
      "source": [
        "# Chart - 12 visualization code"
      ],
      "metadata": {
        "id": "bwevp1tKp1ck"
      },
      "execution_count": null,
      "outputs": []
    },
    {
      "cell_type": "markdown",
      "source": [
        "##### 1. Why did you pick the specific chart?"
      ],
      "metadata": {
        "id": "ylSl6qgtp1ck"
      }
    },
    {
      "cell_type": "markdown",
      "source": [
        "Answer Here."
      ],
      "metadata": {
        "id": "m2xqNkiQp1ck"
      }
    },
    {
      "cell_type": "markdown",
      "source": [
        "##### 2. What is/are the insight(s) found from the chart?"
      ],
      "metadata": {
        "id": "ZWILFDl5p1ck"
      }
    },
    {
      "cell_type": "markdown",
      "source": [
        "Answer Here"
      ],
      "metadata": {
        "id": "x-lUsV2mp1ck"
      }
    },
    {
      "cell_type": "markdown",
      "source": [
        "##### 3. Will the gained insights help creating a positive business impact? \n",
        "Are there any insights that lead to negative growth? Justify with specific reason."
      ],
      "metadata": {
        "id": "M7G43BXep1ck"
      }
    },
    {
      "cell_type": "markdown",
      "source": [
        "Answer Here"
      ],
      "metadata": {
        "id": "5wwDJXsLp1cl"
      }
    },
    {
      "cell_type": "markdown",
      "source": [
        "#### Chart - 13"
      ],
      "metadata": {
        "id": "Ag9LCva-p1cl"
      }
    },
    {
      "cell_type": "code",
      "source": [
        "# Chart - 13 visualization code"
      ],
      "metadata": {
        "id": "EUfxeq9-p1cl"
      },
      "execution_count": null,
      "outputs": []
    },
    {
      "cell_type": "markdown",
      "source": [
        "##### 1. Why did you pick the specific chart?"
      ],
      "metadata": {
        "id": "E6MkPsBcp1cl"
      }
    },
    {
      "cell_type": "markdown",
      "source": [
        "Answer Here."
      ],
      "metadata": {
        "id": "V22bRsFWp1cl"
      }
    },
    {
      "cell_type": "markdown",
      "source": [
        "##### 2. What is/are the insight(s) found from the chart?"
      ],
      "metadata": {
        "id": "2cELzS2fp1cl"
      }
    },
    {
      "cell_type": "markdown",
      "source": [
        "Answer Here"
      ],
      "metadata": {
        "id": "ozQPc2_Ip1cl"
      }
    },
    {
      "cell_type": "markdown",
      "source": [
        "##### 3. Will the gained insights help creating a positive business impact? \n",
        "Are there any insights that lead to negative growth? Justify with specific reason."
      ],
      "metadata": {
        "id": "3MPXvC8up1cl"
      }
    },
    {
      "cell_type": "markdown",
      "source": [
        "Answer Here"
      ],
      "metadata": {
        "id": "GL8l1tdLp1cl"
      }
    },
    {
      "cell_type": "markdown",
      "source": [
        "#### Chart - 14 - Correlation Heatmap"
      ],
      "metadata": {
        "id": "NC_X3p0fY2L0"
      }
    },
    {
      "cell_type": "code",
      "source": [
        "# Correlation Heatmap visualization code"
      ],
      "metadata": {
        "id": "xyC9zolEZNRQ"
      },
      "execution_count": null,
      "outputs": []
    },
    {
      "cell_type": "markdown",
      "source": [
        "##### 1. Why did you pick the specific chart?"
      ],
      "metadata": {
        "id": "UV0SzAkaZNRQ"
      }
    },
    {
      "cell_type": "markdown",
      "source": [
        "Answer Here."
      ],
      "metadata": {
        "id": "DVPuT8LYZNRQ"
      }
    },
    {
      "cell_type": "markdown",
      "source": [
        "##### 2. What is/are the insight(s) found from the chart?"
      ],
      "metadata": {
        "id": "YPEH6qLeZNRQ"
      }
    },
    {
      "cell_type": "markdown",
      "source": [
        "Answer Here"
      ],
      "metadata": {
        "id": "bfSqtnDqZNRR"
      }
    },
    {
      "cell_type": "markdown",
      "source": [
        "#### Chart - 15 - Pair Plot "
      ],
      "metadata": {
        "id": "q29F0dvdveiT"
      }
    },
    {
      "cell_type": "code",
      "source": [
        "# Pair Plot visualization code"
      ],
      "metadata": {
        "id": "o58-TEIhveiU"
      },
      "execution_count": null,
      "outputs": []
    },
    {
      "cell_type": "markdown",
      "source": [
        "##### 1. Why did you pick the specific chart?"
      ],
      "metadata": {
        "id": "EXh0U9oCveiU"
      }
    },
    {
      "cell_type": "markdown",
      "source": [
        "Answer Here."
      ],
      "metadata": {
        "id": "eMmPjTByveiU"
      }
    },
    {
      "cell_type": "markdown",
      "source": [
        "##### 2. What is/are the insight(s) found from the chart?"
      ],
      "metadata": {
        "id": "22aHeOlLveiV"
      }
    },
    {
      "cell_type": "markdown",
      "source": [
        "Answer Here"
      ],
      "metadata": {
        "id": "uPQ8RGwHveiV"
      }
    },
    {
      "cell_type": "code",
      "source": [],
      "metadata": {
        "id": "CeA0OmgTpLv2"
      },
      "execution_count": null,
      "outputs": []
    },
    {
      "cell_type": "markdown",
      "source": [
        "## **5. Solution to Business Objective**"
      ],
      "metadata": {
        "id": "JcMwzZxoAimU"
      }
    },
    {
      "cell_type": "markdown",
      "source": [
        "#### What do you suggest the client to achieve Business Objective ? \n",
        "Explain Briefly."
      ],
      "metadata": {
        "id": "8G2x9gOozGDZ"
      }
    },
    {
      "cell_type": "markdown",
      "source": [
        "Answer Here."
      ],
      "metadata": {
        "id": "pASKb0qOza21"
      }
    },
    {
      "cell_type": "markdown",
      "source": [
        "# **Conclusion**"
      ],
      "metadata": {
        "id": "gCX9965dhzqZ"
      }
    },
    {
      "cell_type": "markdown",
      "source": [
        "Write the conclusion here."
      ],
      "metadata": {
        "id": "Fjb1IsQkh3yE"
      }
    },
    {
      "cell_type": "markdown",
      "source": [
        "### ***Hurrah! You have successfully completed your EDA Capstone Project !!!***"
      ],
      "metadata": {
        "id": "gIfDvo9L0UH2"
      }
    }
  ]
}